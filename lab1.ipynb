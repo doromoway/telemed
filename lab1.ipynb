{
 "cells": [
  {
   "cell_type": "code",
   "execution_count": 1,
   "metadata": {},
   "outputs": [],
   "source": [
    "import hashlib\n",
    "import string\n",
    "import time\n",
    "import itertools"
   ]
  },
  {
   "cell_type": "markdown",
   "metadata": {},
   "source": [
    "1 задание подбор пароля из 4 строчных букв"
   ]
  },
  {
   "cell_type": "code",
   "execution_count": 2,
   "metadata": {},
   "outputs": [
    {
     "name": "stdout",
     "output_type": "stream",
     "text": [
      "54a8723466e5d487247f3d93d51c66bc\n"
     ]
    }
   ],
   "source": [
    "password = 'abba'  \n",
    "res = hashlib.md5(password.encode())  \n",
    "print(res.hexdigest())"
   ]
  },
  {
   "cell_type": "code",
   "execution_count": 8,
   "metadata": {},
   "outputs": [
    {
     "name": "stdout",
     "output_type": "stream",
     "text": [
      "Время подбора: 36.293378 сек\n"
     ]
    }
   ],
   "source": [
    "target_hash = \"54a8723466e5d487247f3d93d51c66bc\"\n",
    "alphabet = string.ascii_lowercase\n",
    "start_time = time.time()\n",
    "for combination in itertools.product(alphabet, repeat=5):\n",
    "    password = ''.join(combination)  \n",
    "    test_hash = hashlib.md5(password.encode()).hexdigest() \n",
    "    if test_hash == target_hash:\n",
    "        print(f\"Пароль найден: {password}\")\n",
    "        break\n",
    "    finish_time = time.time()\n",
    "print(f\"Время подбора: {finish_time - start_time:.6f} сек\")"
   ]
  },
  {
   "cell_type": "markdown",
   "metadata": {},
   "source": [
    "2 задание подбор пароля из 4 букв, который начинается с заглавной буквы"
   ]
  },
  {
   "cell_type": "code",
   "execution_count": 9,
   "metadata": {},
   "outputs": [
    {
     "name": "stdout",
     "output_type": "stream",
     "text": [
      "5fa1e1f6e07a6fea3f2bb098e90a8de2\n"
     ]
    }
   ],
   "source": [
    "password = 'Abba'  \n",
    "res = hashlib.md5(password.encode())  \n",
    "print(res.hexdigest())"
   ]
  },
  {
   "cell_type": "code",
   "execution_count": 11,
   "metadata": {},
   "outputs": [
    {
     "name": "stdout",
     "output_type": "stream",
     "text": [
      "Время подбора: 1221.154733 сек\n"
     ]
    }
   ],
   "source": [
    "target_hash = \"5fa1e1f6e07a6fea3f2bb098e90a8de2\"\n",
    "alphabet = string.ascii_letters \n",
    "start_time = time.time()\n",
    "for combination in itertools.product(alphabet, repeat=5):\n",
    "    password = ''.join(combination)  \n",
    "    test_hash = hashlib.md5(password.encode()).hexdigest() \n",
    "    if test_hash == target_hash:\n",
    "        print(f\"Пароль найден: {password}\")\n",
    "        break\n",
    "    finish_time = time.time()\n",
    "print(f\"Время подбора: {finish_time - start_time:.6f} сек\")"
   ]
  },
  {
   "cell_type": "markdown",
   "metadata": {},
   "source": [
    "3 Задание подбор пароля из цифр"
   ]
  },
  {
   "cell_type": "code",
   "execution_count": 13,
   "metadata": {},
   "outputs": [
    {
     "name": "stdout",
     "output_type": "stream",
     "text": [
      "130214d369d555e15e6b1621771809ad\n"
     ]
    }
   ],
   "source": [
    "password = '9584'  \n",
    "res = hashlib.md5(password.encode())  \n",
    "print(res.hexdigest())"
   ]
  },
  {
   "cell_type": "code",
   "execution_count": 14,
   "metadata": {},
   "outputs": [
    {
     "name": "stdout",
     "output_type": "stream",
     "text": [
      "Время подбора: 1380.559980 сек\n"
     ]
    }
   ],
   "source": [
    "target_hash = \"130214d369d555e15e6b1621771809ad\"\n",
    "alphabet = string.ascii_letters \n",
    "start_time = time.time()\n",
    "for combination in itertools.product(alphabet, repeat=5):\n",
    "    password = ''.join(combination)  \n",
    "    test_hash = hashlib.md5(password.encode()).hexdigest() \n",
    "    if test_hash == target_hash:\n",
    "        print(f\"Пароль найден: {password}\")\n",
    "        break\n",
    "    finish_time = time.time()\n",
    "print(f\"Время подбора: {finish_time - start_time:.6f} сек\")"
   ]
  },
  {
   "cell_type": "markdown",
   "metadata": {},
   "source": [
    "4 Задание подбор пароля из всех символов со спецзнаком "
   ]
  },
  {
   "cell_type": "code",
   "execution_count": 2,
   "metadata": {},
   "outputs": [
    {
     "name": "stdout",
     "output_type": "stream",
     "text": [
      "e1354cc842cc323c307b3424ed3dfa81\n"
     ]
    }
   ],
   "source": [
    "password = 'A.'  \n",
    "res = hashlib.md5(password.encode())  \n",
    "print(res.hexdigest())"
   ]
  },
  {
   "cell_type": "code",
   "execution_count": 2,
   "metadata": {},
   "outputs": [
    {
     "name": "stdout",
     "output_type": "stream",
     "text": [
      "Время подбора: 0.202119 сек\n"
     ]
    }
   ],
   "source": [
    "target_hash = \"e1354cc842cc323c307b3424ed3dfa81\"\n",
    "alphabet = 'ABC-0=.,'\n",
    "start_time = time.time()\n",
    "for combination in itertools.product(alphabet, repeat=5):\n",
    "    password = ''.join(combination)  \n",
    "    test_hash = hashlib.md5(password.encode()).hexdigest() \n",
    "    if test_hash == target_hash:\n",
    "        print(f\"Пароль найден: {password}\")\n",
    "        break\n",
    "    finish_time = time.time()\n",
    "print(f\"Время подбора: {finish_time - start_time:.6f} сек\")"
   ]
  },
  {
   "cell_type": "code",
   "execution_count": 4,
   "metadata": {},
   "outputs": [
    {
     "name": "stdout",
     "output_type": "stream",
     "text": [
      "de88b1d1abf69a8537aed23f7f62a8f0\n"
     ]
    }
   ],
   "source": [
    "password = 'ABBA'  \n",
    "res = hashlib.md5(password.encode())  \n",
    "print(res.hexdigest())"
   ]
  },
  {
   "cell_type": "code",
   "execution_count": 5,
   "metadata": {},
   "outputs": [
    {
     "name": "stdout",
     "output_type": "stream",
     "text": [
      "Время подбора: 28.582091 сек\n"
     ]
    }
   ],
   "source": [
    "target_hash = \"e1354cc842cc323c307b3424ed3dfa81\"\n",
    "alphabet = string.ascii_uppercase\n",
    "start_time = time.time()\n",
    "for combination in itertools.product(alphabet, repeat=5):\n",
    "    password = ''.join(combination)  \n",
    "    test_hash = hashlib.md5(password.encode()).hexdigest() \n",
    "    if test_hash == target_hash:\n",
    "        print(f\"Пароль найден: {password}\")\n",
    "        break\n",
    "    finish_time = time.time()\n",
    "print(f\"Время подбора: {finish_time - start_time:.6f} сек\")"
   ]
  }
 ],
 "metadata": {
  "kernelspec": {
   "display_name": "Python 3",
   "language": "python",
   "name": "python3"
  },
  "language_info": {
   "codemirror_mode": {
    "name": "ipython",
    "version": 3
   },
   "file_extension": ".py",
   "mimetype": "text/x-python",
   "name": "python",
   "nbconvert_exporter": "python",
   "pygments_lexer": "ipython3",
   "version": "3.10.0"
  }
 },
 "nbformat": 4,
 "nbformat_minor": 2
}
