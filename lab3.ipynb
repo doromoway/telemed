{
 "cells": [
  {
   "cell_type": "code",
   "execution_count": 19,
   "metadata": {},
   "outputs": [
    {
     "name": "stdout",
     "output_type": "stream",
     "text": [
      "Requirement already satisfied: gmpy2 in c:\\users\\1\\appdata\\local\\programs\\python\\python310\\lib\\site-packages (2.2.1)\n",
      "Note: you may need to restart the kernel to use updated packages.\n"
     ]
    },
    {
     "name": "stderr",
     "output_type": "stream",
     "text": [
      "WARNING: You are using pip version 21.2.3; however, version 25.0.1 is available.\n",
      "You should consider upgrading via the 'c:\\Users\\1\\AppData\\Local\\Programs\\Python\\Python310\\python.exe -m pip install --upgrade pip' command.\n"
     ]
    }
   ],
   "source": [
    "%pip install gmpy2"
   ]
  },
  {
   "cell_type": "code",
   "execution_count": 20,
   "metadata": {},
   "outputs": [],
   "source": [
    "import gmpy2\n",
    "from cryptography.hazmat.backends import default_backend\n",
    "from cryptography.hazmat.primitives.asymmetric import rsa\n",
    "from cryptography.hazmat.primitives import serialization"
   ]
  },
  {
   "cell_type": "code",
   "execution_count": 22,
   "metadata": {},
   "outputs": [],
   "source": [
    "import hashlib\n",
    "import string\n",
    "import time\n",
    "import itertools"
   ]
  },
  {
   "cell_type": "markdown",
   "metadata": {},
   "source": [
    "Задание 1"
   ]
  },
  {
   "cell_type": "code",
   "execution_count": null,
   "metadata": {},
   "outputs": [],
   "source": [
    "import os\n",
    "key = os.urandom(16)\n",
    "\n",
    "from cryptography.hazmat.primitives.ciphers import Cipher, algorithms, modes\n",
    "from cryptography.hazmat.backends import default_backend\n",
    "aesCipher = Cipher(algorithms.AES(key), modes.ECB(),\n",
    "backend=default_backend())\n",
    "aesEncryptor = aesCipher.encryptor()\n",
    "aesDecryptor = aesCipher.decryptor()"
   ]
  },
  {
   "cell_type": "code",
   "execution_count": null,
   "metadata": {},
   "outputs": [],
   "source": [
    "private_key = rsa.generate_private_key(\n",
    "        public_exponent=65537,\n",
    "        key_size=2048,\n",
    "        backend=default_backend())"
   ]
  },
  {
   "cell_type": "code",
   "execution_count": null,
   "metadata": {},
   "outputs": [],
   "source": [
    "public_key = private_key.public_key()"
   ]
  },
  {
   "cell_type": "code",
   "execution_count": null,
   "metadata": {},
   "outputs": [],
   "source": [
    "private_key_bytes = private_key.private_bytes(\n",
    "       encoding=serialization.Encoding.PEM,\n",
    "       format=serialization.PrivateFormat.TraditionalOpenSSL,\n",
    "       encryption_algorithm=serialization.NoEncryption())"
   ]
  },
  {
   "cell_type": "code",
   "execution_count": null,
   "metadata": {},
   "outputs": [],
   "source": [
    "public_key_bytes = public_key.public_bytes(\n",
    "       encoding=serialization.Encoding.PEM,\n",
    "       format=serialization.PublicFormat.SubjectPublicKeyInfo)"
   ]
  },
  {
   "cell_type": "code",
   "execution_count": null,
   "metadata": {},
   "outputs": [],
   "source": [
    "private_key = serialization.load_pem_private_key(\n",
    "      private_key_bytes,\n",
    "      backend=default_backend(),\n",
    "       password=None)"
   ]
  },
  {
   "cell_type": "code",
   "execution_count": null,
   "metadata": {},
   "outputs": [],
   "source": [
    "public_key = serialization.load_pem_public_key(\n",
    "          public_key_bytes,\n",
    "      backend=default_backend())"
   ]
  },
  {
   "cell_type": "code",
   "execution_count": null,
   "metadata": {},
   "outputs": [],
   "source": [
    "\n",
    "def simple_rsa_encrypt(m, publickey):\n",
    "    numbers = publickey.public_numbers()\n",
    "    return gmpy2.powmod(m, numbers.e, numbers.n)"
   ]
  },
  {
   "cell_type": "code",
   "execution_count": null,
   "metadata": {},
   "outputs": [],
   "source": [
    "def simple_rsa_decrypt(c, privatekey):\n",
    "    numbers = privatekey.private_numbers()\n",
    "    return gmpy2.powmod(c, numbers.d, numbers.public_numbers.n)"
   ]
  },
  {
   "cell_type": "code",
   "execution_count": null,
   "metadata": {},
   "outputs": [
    {
     "name": "stdout",
     "output_type": "stream",
     "text": [
      "b'\\xcb\\x95\\x00\\x14\\xd8$\\xb3\\x9ae\\x00B,\\xbeK!M'\n"
     ]
    }
   ],
   "source": [
    "Za = b'hello darina poshly v stolovku'\n",
    "Ra = aesEncryptor.update(Za)\n",
    "print(Ra)"
   ]
  },
  {
   "cell_type": "code",
   "execution_count": null,
   "metadata": {},
   "outputs": [
    {
     "name": "stdout",
     "output_type": "stream",
     "text": [
      "b'\\xde\\x8f\\xdb{\\x87\\xc2\\xe6\\x8f/(\\xca\\xd5AC\\xab\\x96'\n"
     ]
    }
   ],
   "source": [
    "K=b'\\x0e0\\xd9\\x05@K~\\x12O\\x85\\xd0\\xad\\xe7p\\x15\\xce'\n",
    "\n",
    "print(aesDecryptor.update(K))"
   ]
  },
  {
   "cell_type": "markdown",
   "metadata": {},
   "source": [
    "Задание 2"
   ]
  },
  {
   "cell_type": "code",
   "execution_count": null,
   "metadata": {},
   "outputs": [
    {
     "name": "stdout",
     "output_type": "stream",
     "text": [
      "a6d00589317172e89b8acffb89cb6205\n"
     ]
    }
   ],
   "source": [
    "password = 'hello Sonya'  \n",
    "res = hashlib.md5(password.encode())  \n",
    "print(res.hexdigest())"
   ]
  },
  {
   "cell_type": "code",
   "execution_count": null,
   "metadata": {},
   "outputs": [
    {
     "name": "stdout",
     "output_type": "stream",
     "text": [
      "Время подбора: 31.876164 сек\n",
      "zzzzz\n"
     ]
    }
   ],
   "source": [
    "target_hash = b'a6d00589317172e89b8acffb89cb6205'\n",
    "alphabet = string.ascii_lowercase\n",
    "start_time = time.time()\n",
    "for combination in itertools.product(alphabet, repeat=5):\n",
    "    password = ''.join(combination)  \n",
    "    test_hash = hashlib.md5(password.encode()).hexdigest() \n",
    "    if test_hash == target_hash:\n",
    "        print(f\"Пароль найден: {password}\")\n",
    "        break\n",
    "    finish_time = time.time()\n",
    "print(f\"Время подбора: {finish_time - start_time:.6f} сек\")\n",
    "print(password)"
   ]
  },
  {
   "cell_type": "markdown",
   "metadata": {},
   "source": [
    "Задание 3-4"
   ]
  },
  {
   "cell_type": "code",
   "execution_count": null,
   "metadata": {},
   "outputs": [
    {
     "name": "stdout",
     "output_type": "stream",
     "text": [
      "Расшифрованное 4-буквенное слово: shef\n",
      "Время перебора 4-буквенного слова: 0.00 сек\n",
      "Расшифрованное 5-буквенное слово: lover\n",
      "Время перебора 5-буквенного слова: 0.00 сек\n",
      "Перебор 5-буквенных слов дольше в 1.25 раза\n"
     ]
    }
   ],
   "source": [
    "private_key = rsa.generate_private_key(\n",
    "    public_exponent=65537,\n",
    "    key_size=2048,\n",
    "    backend=default_backend()\n",
    ")\n",
    "public_key = private_key.public_key()\n",
    "\n",
    "def text_to_number(text):\n",
    "    \"\"\"Преобразует текст в число (UTF-8).\"\"\"\n",
    "    return int.from_bytes(text.encode('utf-8'), 'big')\n",
    "\n",
    "def number_to_text(number):\n",
    "    \"\"\"Преобразует число обратно в текст (UTF-8).\"\"\"\n",
    "    return number.to_bytes((number.bit_length() + 7) // 8, 'big').decode('utf-8', errors='ignore')\n",
    "\n",
    "def simple_rsa_encrypt(m, publickey):\n",
    "    \"\"\"Шифрует сообщение с использованием открытого ключа RSA\"\"\"\n",
    "    numbers = publickey.public_numbers()\n",
    "    return gmpy2.powmod(m, numbers.e, numbers.n)\n",
    "\n",
    "def simple_rsa_decrypt(c, privatekey):\n",
    "    \"\"\"Расшифровывает сообщение с помощью закрытого ключа RSA\"\"\"\n",
    "    numbers = privatekey.private_numbers()\n",
    "    return gmpy2.powmod(c, numbers.d, numbers.public_numbers.n)\n",
    "\n",
    "def load_dictionary(filepath):\n",
    "    \"\"\"Загружает список слов из файла.\"\"\"\n",
    "    with open(filepath, \"r\", encoding=\"utf-8\") as file:\n",
    "        return [word.strip().lower() for word in file.readlines() if len(word.strip()) <= 5]\n",
    "\n",
    "def brute_force_decrypt(ciphertext, private_key, dictionary):\n",
    "    \"\"\"Функция перебирает все слова из словаря\"\"\"\n",
    "    start_time = time.time()\n",
    "\n",
    "    decrypted_number = simple_rsa_decrypt(ciphertext, private_key)\n",
    "    \n",
    "    for word in dictionary:\n",
    "        if text_to_number(word) == decrypted_number: \n",
    "            end_time = time.time()\n",
    "            return word, end_time - start_time\n",
    "\n",
    "    return None, time.time() - start_time  \n",
    "\n",
    "message_4 = \"shef\" \n",
    "message_number_4 = text_to_number(message_4)\n",
    "ciphertext_4 = simple_rsa_encrypt(message_number_4, public_key)\n",
    "\n",
    "with open(\"words_alpha.txt\", \"r\", encoding=\"utf-8\") as f:\n",
    "    english_words = [word.strip().lower() for word in f.readlines() if len(word.strip()) <= 5]\n",
    "\n",
    "decrypted_message_4, time_4 = brute_force_decrypt(ciphertext_4, private_key, dictionary=english_words)\n",
    "print(f\"Расшифрованное 4-буквенное слово: {decrypted_message_4}\")\n",
    "print(f\"Время перебора 4-буквенного слова: {time_4:.2f} сек\")\n",
    "\n",
    "message_5 = \"lover\"  \n",
    "message_number_5 = text_to_number(message_5)\n",
    "ciphertext_5 = simple_rsa_encrypt(message_number_5, public_key)\n",
    "\n",
    "decrypted_message_5, time_5 = brute_force_decrypt(ciphertext_5, private_key, dictionary=english_words)\n",
    "print(f\"Расшифрованное 5-буквенное слово: {decrypted_message_5}\")\n",
    "print(f\"Время перебора 5-буквенного слова: {time_5:.2f} сек\")\n",
    "\n",
    "ratio = time_5 / time_4\n",
    "print(f\"Перебор 5-буквенных слов дольше в {ratio:.2f} раза\")"
   ]
  }
 ],
 "metadata": {
  "kernelspec": {
   "display_name": "Python 3",
   "language": "python",
   "name": "python3"
  },
  "language_info": {
   "codemirror_mode": {
    "name": "ipython",
    "version": 3
   },
   "file_extension": ".py",
   "mimetype": "text/x-python",
   "name": "python",
   "nbconvert_exporter": "python",
   "pygments_lexer": "ipython3",
   "version": "3.10.0"
  }
 },
 "nbformat": 4,
 "nbformat_minor": 2
}
