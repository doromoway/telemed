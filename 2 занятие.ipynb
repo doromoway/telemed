{
 "cells": [
  {
   "cell_type": "code",
   "execution_count": 16,
   "metadata": {},
   "outputs": [
    {
     "name": "stdout",
     "output_type": "stream",
     "text": [
      "Requirement already satisfied: cryptography in c:\\users\\1\\appdata\\local\\programs\\python\\python310\\lib\\site-packages (44.0.2)Note: you may need to restart the kernel to use updated packages.\n",
      "\n",
      "Requirement already satisfied: cffi>=1.12 in c:\\users\\1\\appdata\\local\\programs\\python\\python310\\lib\\site-packages (from cryptography) (1.17.1)\n",
      "Requirement already satisfied: pycparser in c:\\users\\1\\appdata\\local\\programs\\python\\python310\\lib\\site-packages (from cffi>=1.12->cryptography) (2.22)\n"
     ]
    },
    {
     "name": "stderr",
     "output_type": "stream",
     "text": [
      "WARNING: You are using pip version 21.2.3; however, version 25.0.1 is available.\n",
      "You should consider upgrading via the 'c:\\Users\\1\\AppData\\Local\\Programs\\Python\\Python310\\python.exe -m pip install --upgrade pip' command.\n"
     ]
    }
   ],
   "source": [
    "%pip install cryptography"
   ]
  },
  {
   "cell_type": "code",
   "execution_count": 29,
   "metadata": {},
   "outputs": [],
   "source": [
    "import os\n",
    "from cryptography.hazmat.primitives.ciphers import Cipher, algorithms, modes\n",
    "from cryptography.hazmat.backends import default_backend\n",
    "from cryptography.hazmat.primitives import padding"
   ]
  },
  {
   "cell_type": "code",
   "execution_count": 27,
   "metadata": {},
   "outputs": [],
   "source": [
    "import os\n",
    "key = os.urandom(16)\n",
    "\n",
    "from cryptography.hazmat.primitives.ciphers import Cipher, algorithms, modes\n",
    "from cryptography.hazmat.backends import default_backend\n",
    "aesCipher = Cipher(algorithms.AES(key), modes.ECB(),\n",
    "backend=default_backend())\n",
    "aesEncryptor = aesCipher.encryptor()\n",
    "aesDecryptor = aesCipher.decryptor()\n"
   ]
  },
  {
   "cell_type": "markdown",
   "metadata": {},
   "source": [
    "Задание 1 расшифровать послание"
   ]
  },
  {
   "cell_type": "code",
   "execution_count": null,
   "metadata": {},
   "outputs": [
    {
     "name": "stdout",
     "output_type": "stream",
     "text": [
      "b'This is very secret message for '\n",
      "b\"$\\xb5\\xa7m\\xb2(\\x19\\xfb1\\xf5| \\xe6t'\\xf9\\xd2\\xb0\\x07\\x97\\xf1\\xe3\\x993\\xe6o\\xa7\\xf0\\x9aO\\xd7-\"\n"
     ]
    }
   ],
   "source": [
    "#Пример зашифровки\n",
    "encrypter_message= b'\\x08r\\x9b*\\xeee\\x96a\\xafdY\\x05F\\t:\\x95:I.\\xabU\\xa6S\\x8a\\xbaw\\xf8V\\x16sa\\xbe'\n",
    "\n",
    "super_secret_key = 1234654\n",
    "key = super_secret_key.to_bytes(16,'big')\n",
    "\n",
    "aesCipher = Cipher(algorithms.AES(key), modes.ECB(),\n",
    "backend=default_backend())\n",
    "aesDecryptor = aesCipher.encryptor()\n",
    "aesDecryptor = aesCipher.decryptor()\n",
    "\n",
    "print(aesDecryptor.update(encrypter_message))\n",
    "\n",
    "Za = b'Bob, come and have tea with jam on March 14 at 16:00'\n",
    "Ra = aesEncryptor.update(Za)\n",
    "print(Ra)"
   ]
  },
  {
   "cell_type": "code",
   "execution_count": 116,
   "metadata": {},
   "outputs": [
    {
     "name": "stdout",
     "output_type": "stream",
     "text": [
      "b'\\xa4\\xdd\\xe2\\xa6\\xb7kk\\x98\\xc1\\x11X\\xba\\xfa8\\xc1\\xf42\\rK\\x8c@^/fD\\xa1\\x9b87\\xc4\\xa87'\n"
     ]
    }
   ],
   "source": [
    "G= b\"$\\xb5\\xa7m\\xb2(\\x19\\xfb1\\xf5| \\xe6t'\\xf9\\xd2\\xb0\\x07\\x97\\xf1\\xe3\\x993\\xe6o\\xa7\\xf0\\x9aO\\xd7-\"\n",
    "print(aesDecryptor.update(G))"
   ]
  },
  {
   "cell_type": "markdown",
   "metadata": {},
   "source": [
    "Задание 2"
   ]
  },
  {
   "cell_type": "code",
   "execution_count": 1,
   "metadata": {},
   "outputs": [
    {
     "ename": "NameError",
     "evalue": "name 'os' is not defined",
     "output_type": "error",
     "traceback": [
      "\u001b[1;31m---------------------------------------------------------------------------\u001b[0m",
      "\u001b[1;31mNameError\u001b[0m                                 Traceback (most recent call last)",
      "Cell \u001b[1;32mIn[1], line 26\u001b[0m\n\u001b[0;32m     22\u001b[0m     decrypted_data \u001b[38;5;241m=\u001b[39m unpadder\u001b[38;5;241m.\u001b[39mupdate(decrypted_padded) \u001b[38;5;241m+\u001b[39m unpadder\u001b[38;5;241m.\u001b[39mfinalize()\n\u001b[0;32m     24\u001b[0m     \u001b[38;5;28;01mreturn\u001b[39;00m decrypted_data\u001b[38;5;241m.\u001b[39mdecode()\n\u001b[1;32m---> 26\u001b[0m aes_key \u001b[38;5;241m=\u001b[39m \u001b[43mgenerate_key\u001b[49m\u001b[43m(\u001b[49m\u001b[43m)\u001b[49m\n\u001b[0;32m     27\u001b[0m \u001b[38;5;28mprint\u001b[39m(\u001b[38;5;124mf\u001b[39m\u001b[38;5;124m\"\u001b[39m\u001b[38;5;124mAES Key: \u001b[39m\u001b[38;5;132;01m{\u001b[39;00maes_key\u001b[38;5;241m.\u001b[39mhex()\u001b[38;5;132;01m}\u001b[39;00m\u001b[38;5;124m\"\u001b[39m)\n\u001b[0;32m     29\u001b[0m message \u001b[38;5;241m=\u001b[39m \u001b[38;5;28minput\u001b[39m(\u001b[38;5;124m\"\u001b[39m\u001b[38;5;124mВведите сообщение: \u001b[39m\u001b[38;5;124m\"\u001b[39m)\n",
      "Cell \u001b[1;32mIn[1], line 2\u001b[0m, in \u001b[0;36mgenerate_key\u001b[1;34m()\u001b[0m\n\u001b[0;32m      1\u001b[0m \u001b[38;5;28;01mdef\u001b[39;00m \u001b[38;5;21mgenerate_key\u001b[39m():\n\u001b[1;32m----> 2\u001b[0m     \u001b[38;5;28;01mreturn\u001b[39;00m \u001b[43mos\u001b[49m\u001b[38;5;241m.\u001b[39murandom(\u001b[38;5;241m16\u001b[39m)\n",
      "\u001b[1;31mNameError\u001b[0m: name 'os' is not defined"
     ]
    }
   ],
   "source": [
    "def generate_key():\n",
    "    return os.urandom(16)  \n",
    "\n",
    "def encrypt_message(key, plaintext):\n",
    "    cipher = Cipher(algorithms.AES(key), modes.ECB(), backend=default_backend())\n",
    "    encryptor = cipher.encryptor()\n",
    "\n",
    "    padder = padding.PKCS7(128).padder()\n",
    "    padded_data = padder.update(plaintext.encode()) + padder.finalize()\n",
    "    \n",
    "    ciphertext = encryptor.update(padded_data) + encryptor.finalize()\n",
    "    return ciphertext\n",
    "\n",
    "def decrypt_message(key, ciphertext):\n",
    "    cipher = Cipher(algorithms.AES(key), modes.ECB(), backend=default_backend())\n",
    "    decryptor = cipher.decryptor()\n",
    "    \n",
    "    decrypted_padded = decryptor.update(ciphertext) + decryptor.finalize()\n",
    "    \n",
    " \n",
    "    unpadder = padding.PKCS7(128).unpadder()\n",
    "    decrypted_data = unpadder.update(decrypted_padded) + unpadder.finalize()\n",
    "    \n",
    "    return decrypted_data.decode()\n",
    "\n",
    "aes_key = generate_key()\n",
    "print(f\"AES Key: {aes_key.hex()}\")\n",
    "\n",
    "message = input(\"Введите сообщение: \")\n",
    "\n",
    "encrypted = encrypt_message(aes_key, message)\n",
    "print(f\"Зашифрованное сообщение: {encrypted.hex()}\")\n",
    "\n",
    "decrypted = decrypt_message(aes_key, encrypted)\n",
    "print(f\"Расшифрованное сообщение: {decrypted}\")"
   ]
  },
  {
   "cell_type": "markdown",
   "metadata": {},
   "source": [
    "Задание 3"
   ]
  },
  {
   "cell_type": "code",
   "execution_count": 37,
   "metadata": {},
   "outputs": [
    {
     "name": "stdout",
     "output_type": "stream",
     "text": [
      "AES Key: cf8b9a162498fda78d3d33833dc15525\n",
      "Зашифрованное сообщение: 9142630a363c0157d17a98d33e65d37f198fd817d209db5a1cedd1523bebab91ba3abbf88e15edcc9eb932b3e6eb2e03\n",
      "Расшифрованное сообщение: Алиса, иди в бассейн к 14:00\n"
     ]
    }
   ],
   "source": [
    "def generate_key():\n",
    "    return os.urandom(16)\n",
    "\n",
    "def encrypt_message(key, plaintext):\n",
    "    cipher = Cipher(algorithms.AES(key), modes.ECB(), backend=default_backend())\n",
    "    encryptor = cipher.encryptor()\n",
    "\n",
    "    padder = padding.PKCS7(128).padder()\n",
    "    padded_data = padder.update(plaintext.encode()) + padder.finalize()\n",
    "    \n",
    "    ciphertext = encryptor.update(padded_data) + encryptor.finalize()\n",
    "    return ciphertext\n",
    "\n",
    "def decrypt_message(key, ciphertext):\n",
    "    cipher = Cipher(algorithms.AES(key), modes.ECB(), backend=default_backend())\n",
    "    decryptor = cipher.decryptor()\n",
    "    \n",
    "    decrypted_padded = decryptor.update(ciphertext) + decryptor.finalize()\n",
    "    \n",
    " \n",
    "    unpadder = padding.PKCS7(128).unpadder()\n",
    "    decrypted_data = unpadder.update(decrypted_padded) + unpadder.finalize()\n",
    "    \n",
    "    return decrypted_data.decode()\n",
    "\n",
    "aes_key = generate_key()\n",
    "print(f\"AES Key: {aes_key.hex()}\")\n",
    "\n",
    "message = input(\"Введите сообщение: \")\n",
    "\n",
    "encrypted = encrypt_message(aes_key, message)\n",
    "print(f\"Зашифрованное сообщение: {encrypted.hex()}\")\n",
    "\n",
    "decrypted = decrypt_message(aes_key, encrypted)\n",
    "print(f\"Расшифрованное сообщение: {decrypted}\")"
   ]
  },
  {
   "cell_type": "code",
   "execution_count": 36,
   "metadata": {},
   "outputs": [
    {
     "name": "stdout",
     "output_type": "stream",
     "text": [
      "AES Key: 5a252f648f8b0ff4fd44d6d53b084c34\n",
      "Зашифрованное сообщение: ccbcf8b23519cda1d9fc2d012e9e8de954b9a4ad937beb268d66b024f5fedc71c63a12d05079feef6193855defa02212\n",
      "Расшифрованное сообщение: Боб, иди в библиотеку к 11:00\n"
     ]
    }
   ],
   "source": [
    "def generate_key():\n",
    "    return os.urandom(16)  \n",
    "\n",
    "def encrypt_message(key, plaintext):\n",
    "    cipher = Cipher(algorithms.AES(key), modes.ECB(), backend=default_backend())\n",
    "    encryptor = cipher.encryptor()\n",
    "\n",
    "    padder = padding.PKCS7(128).padder()\n",
    "    padded_data = padder.update(plaintext.encode()) + padder.finalize()\n",
    "    \n",
    "    ciphertext = encryptor.update(padded_data) + encryptor.finalize()\n",
    "    return ciphertext\n",
    "\n",
    "def decrypt_message(key, ciphertext):\n",
    "    cipher = Cipher(algorithms.AES(key), modes.ECB(), backend=default_backend())\n",
    "    decryptor = cipher.decryptor()\n",
    "    \n",
    "    decrypted_padded = decryptor.update(ciphertext) + decryptor.finalize()\n",
    "    \n",
    " \n",
    "    unpadder = padding.PKCS7(128).unpadder()\n",
    "    decrypted_data = unpadder.update(decrypted_padded) + unpadder.finalize()\n",
    "    \n",
    "    return decrypted_data.decode()\n",
    "\n",
    "aes_key = generate_key()\n",
    "print(f\"AES Key: {aes_key.hex()}\")\n",
    "\n",
    "message = input(\"Введите сообщение: \")\n",
    "\n",
    "encrypted = encrypt_message(aes_key, message)\n",
    "print(f\"Зашифрованное сообщение: {encrypted.hex()}\")\n",
    "\n",
    "decrypted = decrypt_message(aes_key, encrypted)\n",
    "print(f\"Расшифрованное сообщение: {decrypted}\")"
   ]
  },
  {
   "cell_type": "code",
   "execution_count": 39,
   "metadata": {},
   "outputs": [
    {
     "ename": "IndentationError",
     "evalue": "expected an indented block after 'with' statement on line 16 (547953921.py, line 17)",
     "output_type": "error",
     "traceback": [
      "\u001b[1;36m  Cell \u001b[1;32mIn[39], line 17\u001b[1;36m\u001b[0m\n\u001b[1;33m    image_data = reader.read()\u001b[0m\n\u001b[1;37m    ^\u001b[0m\n\u001b[1;31mIndentationError\u001b[0m\u001b[1;31m:\u001b[0m expected an indented block after 'with' statement on line 16\n"
     ]
    }
   ],
   "source": [
    "# NEVER USE: ECB is not secure!\n",
    "from cryptography.hazmat.primitives.ciphers import Cipher, algorithms, modes\n",
    "from cryptography.hazmat.backends import default_backend\n",
    "\n",
    "# Alice and Bob's Shared Key\n",
    "test_key = bytes.fromhex('00112233445566778899AABBCCDDEEFF')\n",
    "aesCipher = Cipher(algorithms.AES(test_key), modes.ECB(),\n",
    "backend=default_backend())\n",
    "aesEncryptor = aesCipher.encryptor()\n",
    "aesDecryptor = aesCipher.decryptor()\n",
    "\n",
    "import sys\n",
    "ifile, ofile = sys.argv[1:3]\n",
    "with open(ifile, \"rb\") as reader:\n",
    " \n",
    "    with open(ofile, \"wb+\") as writer:\n",
    "    image_data = reader.read()\n",
    "    header, body = image_data[:54], image_data[54:]\n",
    "    body += b\"\\x00\"*(16-(len(body)%16))\n",
    "    writer.write(header + aesEncryptor.update(body))"
   ]
  }
 ],
 "metadata": {
  "kernelspec": {
   "display_name": "Python 3",
   "language": "python",
   "name": "python3"
  },
  "language_info": {
   "codemirror_mode": {
    "name": "ipython",
    "version": 3
   },
   "file_extension": ".py",
   "mimetype": "text/x-python",
   "name": "python",
   "nbconvert_exporter": "python",
   "pygments_lexer": "ipython3",
   "version": "3.10.0"
  }
 },
 "nbformat": 4,
 "nbformat_minor": 2
}
