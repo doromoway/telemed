{
 "cells": [
  {
   "cell_type": "code",
   "execution_count": 23,
   "metadata": {},
   "outputs": [
    {
     "name": "stdout",
     "output_type": "stream",
     "text": [
      "Requirement already satisfied: cryptography in c:\\users\\1\\appdata\\local\\programs\\python\\python310\\lib\\site-packages (44.0.2)\n",
      "Requirement already satisfied: cffi>=1.12 in c:\\users\\1\\appdata\\local\\programs\\python\\python310\\lib\\site-packages (from cryptography) (1.17.1)\n",
      "Requirement already satisfied: pycparser in c:\\users\\1\\appdata\\local\\programs\\python\\python310\\lib\\site-packages (from cffi>=1.12->cryptography) (2.22)\n",
      "Note: you may need to restart the kernel to use updated packages.\n"
     ]
    },
    {
     "name": "stderr",
     "output_type": "stream",
     "text": [
      "WARNING: You are using pip version 21.2.3; however, version 25.0.1 is available.\n",
      "You should consider upgrading via the 'c:\\Users\\1\\AppData\\Local\\Programs\\Python\\Python310\\python.exe -m pip install --upgrade pip' command.\n"
     ]
    }
   ],
   "source": [
    "%pip install cryptography"
   ]
  },
  {
   "cell_type": "code",
   "execution_count": 24,
   "metadata": {},
   "outputs": [],
   "source": [
    "import os\n",
    "from cryptography.hazmat.primitives.ciphers import Cipher, algorithms, modes\n",
    "from cryptography.hazmat.backends import default_backend\n",
    "from cryptography.hazmat.primitives import padding"
   ]
  },
  {
   "cell_type": "markdown",
   "metadata": {},
   "source": [
    "Задание 1 "
   ]
  },
  {
   "cell_type": "code",
   "execution_count": 25,
   "metadata": {},
   "outputs": [],
   "source": [
    "import os\n",
    "key = os.urandom(16)\n",
    "\n",
    "from cryptography.hazmat.primitives.ciphers import Cipher, algorithms, modes\n",
    "from cryptography.hazmat.backends import default_backend\n",
    "aesCipher = Cipher(algorithms.AES(key), modes.ECB(),\n",
    "backend=default_backend())\n",
    "aesEncryptor = aesCipher.encryptor()\n",
    "aesDecryptor = aesCipher.decryptor()\n"
   ]
  },
  {
   "cell_type": "code",
   "execution_count": 26,
   "metadata": {},
   "outputs": [
    {
     "name": "stdout",
     "output_type": "stream",
     "text": [
      "b'This is very secret message for '\n",
      "b'\\xff.\\x1e\\x9a\\x89\\xb6]{bc\\x13 \\xb1\\xd5\\xfc\\xf9\\x8b0\\xa2a\\xc5V\\xf2\\xf3\\xd0\\x13\\xce|\\x91\\xab\\x87\\x8c\\xfeCP<C\\x17XB\\xfc\\x06[\\x14\\r\\xc1\\x1a|'\n"
     ]
    }
   ],
   "source": [
    "#Пример зашифровки\n",
    "encrypter_message= b'\\x08r\\x9b*\\xeee\\x96a\\xafdY\\x05F\\t:\\x95:I.\\xabU\\xa6S\\x8a\\xbaw\\xf8V\\x16sa\\xbe'\n",
    "\n",
    "super_secret_key = 1234654\n",
    "key = super_secret_key.to_bytes(16,'big')\n",
    "\n",
    "aesCipher = Cipher(algorithms.AES(key), modes.ECB(),\n",
    "backend=default_backend())\n",
    "aesEncryptor = aesCipher.encryptor()\n",
    "aesDecryptor = aesCipher.decryptor()\n",
    "\n",
    "print(aesDecryptor.update(encrypter_message))\n",
    "\n",
    "Za = b'Bob, come and have tea with jam on March 14 at 16:00'\n",
    "Ra = aesEncryptor.update(Za)\n",
    "print(Ra)"
   ]
  },
  {
   "cell_type": "markdown",
   "metadata": {},
   "source": [
    "Пример расшиифровки"
   ]
  },
  {
   "cell_type": "code",
   "execution_count": 27,
   "metadata": {},
   "outputs": [
    {
     "name": "stdout",
     "output_type": "stream",
     "text": [
      "b'Bob, come and have tea with jam on March 14 at 1'\n"
     ]
    }
   ],
   "source": [
    "G=b'\\xff.\\x1e\\x9a\\x89\\xb6]{bc\\x13 \\xb1\\xd5\\xfc\\xf9\\x8b0\\xa2a\\xc5V\\xf2\\xf3\\xd0\\x13\\xce|\\x91\\xab\\x87\\x8c\\xfeCP<C\\x17XB\\xfc\\x06[\\x14\\r\\xc1\\x1a|'\n",
    "\n",
    "print(aesDecryptor.update(G))"
   ]
  },
  {
   "cell_type": "markdown",
   "metadata": {},
   "source": [
    "Задание 2 шифратор/дешифратор"
   ]
  },
  {
   "cell_type": "code",
   "execution_count": 28,
   "metadata": {},
   "outputs": [
    {
     "name": "stdout",
     "output_type": "stream",
     "text": [
      "AES Key: 9929d3908bc5fd10fdd4771c2aa2a9e1\n",
      "Зашифрованное сообщение: 69f9a1ea147b294ddd32b13a0ebfe08e\n",
      "Расшифрованное сообщение: hello\n"
     ]
    }
   ],
   "source": [
    "def generate_key():\n",
    "    return os.urandom(16)  \n",
    "\n",
    "def encrypt_message(key, plaintext):\n",
    "    cipher = Cipher(algorithms.AES(key), modes.ECB(), backend=default_backend())\n",
    "    encryptor = cipher.encryptor()\n",
    "\n",
    "    padder = padding.PKCS7(128).padder()\n",
    "    padded_data = padder.update(plaintext.encode()) + padder.finalize()\n",
    "    \n",
    "    ciphertext = encryptor.update(padded_data) + encryptor.finalize()\n",
    "    return ciphertext\n",
    "\n",
    "def decrypt_message(key, ciphertext):\n",
    "    cipher = Cipher(algorithms.AES(key), modes.ECB(), backend=default_backend())\n",
    "    decryptor = cipher.decryptor()\n",
    "    \n",
    "    decrypted_padded = decryptor.update(ciphertext) + decryptor.finalize()\n",
    "    \n",
    " \n",
    "    unpadder = padding.PKCS7(128).unpadder()\n",
    "    decrypted_data = unpadder.update(decrypted_padded) + unpadder.finalize()\n",
    "    \n",
    "    return decrypted_data.decode()\n",
    "\n",
    "aes_key = generate_key()\n",
    "print(f\"AES Key: {aes_key.hex()}\")\n",
    "\n",
    "message = input(\"Введите сообщение: \")\n",
    "\n",
    "encrypted = encrypt_message(aes_key, message)\n",
    "print(f\"Зашифрованное сообщение: {encrypted.hex()}\")\n",
    "\n",
    "decrypted = decrypt_message(aes_key, encrypted)\n",
    "print(f\"Расшифрованное сообщение: {decrypted}\")"
   ]
  },
  {
   "cell_type": "markdown",
   "metadata": {},
   "source": [
    "Задание 3 оставить начало и изменить конец послания"
   ]
  },
  {
   "cell_type": "code",
   "execution_count": 34,
   "metadata": {},
   "outputs": [
    {
     "name": "stdout",
     "output_type": "stream",
     "text": [
      "Зашифрованное сообщение 1: 2a2bb0110dfd99b21bdf26b99433a88389103a3ad9dad0c14c7b235bee0503ee40cddccf1d05f463ccfc8e450bdeb7bc9b7e9eca90e3d8fd7c8867a7c25cf95d\n",
      "Зашифрованное сообщение 2: 2a2bb0110dfd99b21bdf26b99433a88389103a3ad9dad0c14c7b235bee0503ee56b2253968b329bf83b308c3d3e7df25523efed58676274d95fe72239f9e71e4\n",
      "Расшифрованное изменённое сообщение 2: Встреча Боба и Алисы 20 мая в кафе\n"
     ]
    }
   ],
   "source": [
    "key = b'\\x01' * 16  \n",
    "\n",
    "message1 = \"Встреча Боба и Алисы 10 мая в кафе\"\n",
    "cipher1 = Cipher(algorithms.AES(key), modes.ECB(), backend=default_backend())\n",
    "encryptor1 = cipher1.encryptor()\n",
    "padder1 = padding.PKCS7(128).padder()\n",
    "padded_data1 = padder1.update(message1.encode()) + padder1.finalize()\n",
    "encrypted1 = encryptor1.update(padded_data1) + encryptor1.finalize()\n",
    "print(f\"Зашифрованное сообщение 1: {encrypted1.hex()}\")\n",
    "\n",
    "message2 = \"Встреча Боба и Алисы 20 мая в кино\"\n",
    "cipher2 = Cipher(algorithms.AES(key), modes.ECB(), backend=default_backend())\n",
    "encryptor2 = cipher2.encryptor()\n",
    "padder2 = padding.PKCS7(128).padder()\n",
    "padded_data2 = padder2.update(message2.encode()) + padder2.finalize()\n",
    "encrypted2 = encryptor2.update(padded_data2) + encryptor2.finalize()\n",
    "print(f\"Зашифрованное сообщение 2: {encrypted2.hex()}\")\n",
    "\n",
    "modified_encrypted2 = encrypted2[:-16] + encrypted1[-16:]\n",
    "\n",
    "decryptor = Cipher(algorithms.AES(key), modes.ECB(), backend=default_backend()).decryptor()\n",
    "decrypted_padded = decryptor.update(modified_encrypted2) + decryptor.finalize()\n",
    "unpadder = padding.PKCS7(128).unpadder()\n",
    "decrypted = unpadder.update(decrypted_padded) + unpadder.finalize()\n",
    "print(f\"Расшифрованное изменённое сообщение 2: {decrypted.decode()}\")"
   ]
  }
 ],
 "metadata": {
  "kernelspec": {
   "display_name": "Python 3",
   "language": "python",
   "name": "python3"
  },
  "language_info": {
   "codemirror_mode": {
    "name": "ipython",
    "version": 3
   },
   "file_extension": ".py",
   "mimetype": "text/x-python",
   "name": "python",
   "nbconvert_exporter": "python",
   "pygments_lexer": "ipython3",
   "version": "3.10.0"
  }
 },
 "nbformat": 4,
 "nbformat_minor": 2
}
